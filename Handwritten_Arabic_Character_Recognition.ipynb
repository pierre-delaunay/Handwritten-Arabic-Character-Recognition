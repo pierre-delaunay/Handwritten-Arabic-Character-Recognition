{
 "cells": [
  {
   "cell_type": "markdown",
   "metadata": {},
   "source": [
    "## Imports"
   ]
  },
  {
   "cell_type": "code",
   "execution_count": 30,
   "metadata": {},
   "outputs": [],
   "source": [
    "import numpy as np\n",
    "import pandas as pd\n",
    "import keras\n",
    "from keras.models import Sequential\n",
    "from keras.layers import Conv2D, Dense, MaxPool2D, Dropout, Flatten, AveragePooling2D\n",
    "from keras.preprocessing.image import ImageDataGenerator\n",
    "from keras.optimizers import Adam\n",
    "import matplotlib.pyplot as plt\n",
    "import seaborn as sns"
   ]
  },
  {
   "cell_type": "markdown",
   "metadata": {},
   "source": [
    "## Data preprocessing"
   ]
  },
  {
   "cell_type": "code",
   "execution_count": 31,
   "metadata": {
    "scrolled": true
   },
   "outputs": [
    {
     "name": "stdout",
     "output_type": "stream",
     "text": [
      "Number of classes :  7\n"
     ]
    }
   ],
   "source": [
    "def plot_letters(X, Y):\n",
    "    for i in range(20):\n",
    "        plt.subplot(5, 4, i + 1)\n",
    "        plt.tight_layout()\n",
    "        plt.imshow(X[i].reshape(32, 32), cmap='gray')\n",
    "        plt.title('Label : {}'.format(Y[i]))\n",
    "        plt.xticks([])\n",
    "        plt.yticks([])\n",
    "    plt.show()\n",
    "    \n",
    "df_train = pd.read_csv('data/train.txt', sep=\" \", header=0)\n",
    "df_test = pd.read_csv('data/validation.txt', sep=\" \", header=0)\n",
    "df_comp = pd.read_csv('data/competition.txt', sep=\" \", header=0)\n",
    "\n",
    "X_train = df_train.iloc[:, 1:]\n",
    "Y_train = df_train.iloc[:, 0]\n",
    "\n",
    "X_test = df_test.iloc[:, 1:]\n",
    "Y_test = df_test.iloc[:, 0]\n",
    "\n",
    "X_comp = np.array(df_comp)\n",
    "X_comp = X_comp.reshape((X_comp.shape[0], 32, 32, 1))\n",
    "\n",
    "X_train = X_train.to_numpy()\n",
    "Y_train = Y_train.to_numpy()\n",
    "\n",
    "X_test = X_test.to_numpy()\n",
    "y_test = Y_test.to_numpy()\n",
    "\n",
    "# Z-score normalization\n",
    "mean = np.mean(X_train, axis=(0, 1))\n",
    "std = np.std(X_train, axis=(0, 1))\n",
    "X_train = ((X_train - mean) / (std + 1e-7)).astype(\"float32\")\n",
    "X_test = ((X_test - mean) / (std + 1e-7)).astype(\"float32\")\n",
    "X_comp = ((X_comp - mean) / (std + 1e-7)).astype(\"float32\")\n",
    "\n",
    "# Labels conversion\n",
    "Y_train[Y_train == 1] = 0\n",
    "Y_train[Y_train == 2] = 1\n",
    "Y_train[Y_train == 6] = 2\n",
    "Y_train[Y_train == 12] = 3\n",
    "Y_train[Y_train == 16] = 4\n",
    "Y_train[Y_train == 18] = 5\n",
    "Y_train[Y_train == 22] = 6\n",
    "\n",
    "y_test[y_test == 1] = 0\n",
    "y_test[y_test == 2] = 1\n",
    "y_test[y_test == 6] = 2\n",
    "y_test[y_test == 12] = 3\n",
    "y_test[y_test == 16] = 4\n",
    "y_test[y_test == 18] = 5\n",
    "y_test[y_test == 22] = 6\n",
    "\n",
    "nr_classes = len(np.unique(df_train.iloc[:, 0]))\n",
    "print(\"Number of classes : \", nr_classes)\n",
    "\n",
    "X_train = X_train.reshape(1444, 32, 32, 1)\n",
    "y_train = keras.backend.one_hot(Y_train, nr_classes)\n",
    "y_train = y_train.numpy().reshape(1444, 7)\n",
    "\n",
    "X_test = X_test.reshape(256, 32, 32, 1)\n",
    "y_test = keras.backend.one_hot(y_test, nr_classes)\n",
    "y_test = y_test.numpy().reshape(256, 7)"
   ]
  },
  {
   "cell_type": "code",
   "execution_count": 32,
   "metadata": {},
   "outputs": [
    {
     "data": {
      "image/png": "[encoded data removed]",
      "text/plain": [
       "<Figure size 576x576 with 1 Axes>"
      ]
     },
     "metadata": {
      "needs_background": "light"
     },
     "output_type": "display_data"
    }
   ],
   "source": [
    "# Distribution\n",
    "fig, ax = plt.subplots(figsize=(8, 8))\n",
    "sns.countplot(x=Y_train)\n",
    "ax.set_title('Distribution of Labels', fontsize=14)\n",
    "ax.set_xlabel('Labels', fontsize=12)\n",
    "ax.set_ylabel('Count', fontsize=14)\n",
    "plt.show()"
   ]
  },
  {
   "cell_type": "code",
   "execution_count": 34,
   "metadata": {},
   "outputs": [
    {
     "data": {
      "image/png": "[encoded data removed]",
      "text/plain": [
       "<Figure size 432x288 with 20 Axes>"
      ]
     },
     "metadata": {},
     "output_type": "display_data"
    }
   ],
   "source": [
    "plot_letters(X_train, Y_train)"
   ]
  },
  {
   "cell_type": "markdown",
   "metadata": {},
   "source": [
    "## Model implementation"
   ]
  },
  {
   "cell_type": "code",
   "execution_count": 35,
   "metadata": {},
   "outputs": [
    {
     "name": "stdout",
     "output_type": "stream",
     "text": [
      "Model: \"sequential_3\"\n",
      "_________________________________________________________________\n",
      "Layer (type)                 Output Shape              Param #   \n",
      "=================================================================\n",
      "conv2d_9 (Conv2D)            (None, 32, 32, 6)         156       \n",
      "_________________________________________________________________\n",
      "average_pooling2d_6 (Average (None, 16, 16, 6)         0         \n",
      "_________________________________________________________________\n",
      "conv2d_10 (Conv2D)           (None, 12, 12, 16)        2416      \n",
      "_________________________________________________________________\n",
      "average_pooling2d_7 (Average (None, 6, 6, 16)          0         \n",
      "_________________________________________________________________\n",
      "conv2d_11 (Conv2D)           (None, 2, 2, 120)         48120     \n",
      "_________________________________________________________________\n",
      "flatten_3 (Flatten)          (None, 480)               0         \n",
      "_________________________________________________________________\n",
      "dense_6 (Dense)              (None, 84)                40404     \n",
      "_________________________________________________________________\n",
      "dense_7 (Dense)              (None, 7)                 595       \n",
      "=================================================================\n",
      "Total params: 91,691\n",
      "Trainable params: 91,691\n",
      "Non-trainable params: 0\n",
      "_________________________________________________________________\n",
      "None\n"
     ]
    }
   ],
   "source": [
    "model = Sequential()\n",
    "# C1 Convolutional Layer\n",
    "model.add(Conv2D(filters=6, kernel_size=5, strides=1, activation='tanh',\n",
    "                 input_shape=(32, 32, 1), padding='same'))\n",
    "\n",
    "# S2 Pooling Layer\n",
    "model.add(AveragePooling2D(pool_size=2, strides=2, padding='valid'))\n",
    "\n",
    "# C3 Convolutional Layer\n",
    "model.add(Conv2D(filters=16, kernel_size=5, strides=1, activation='tanh',\n",
    "                 padding='valid'))\n",
    "# S4 Pooling Layer\n",
    "model.add(AveragePooling2D(pool_size=2, strides=2, padding='valid'))\n",
    "\n",
    "# C5 Convolutional Layer\n",
    "model.add(Conv2D(filters=120, kernel_size=5, strides=1, activation='tanh',\n",
    "                 padding='valid'))\n",
    "\n",
    "# Flatten the CNN output to feed it with fully connected layers\n",
    "model.add(Flatten())\n",
    "\n",
    "# FC6 Fully Connected Layer\n",
    "model.add(Dense(units=84, activation='tanh'))\n",
    "\n",
    "# FC7 Output layer with softmax activation\n",
    "model.add(Dense(units=7, activation='softmax'))\n",
    "\n",
    "print(model.summary())\n",
    "\n",
    "adam = Adam(lr=5e-4)\n",
    "model.compile(loss='categorical_crossentropy', metrics=['accuracy'], optimizer=adam)"
   ]
  },
  {
   "cell_type": "code",
   "execution_count": 39,
   "metadata": {},
   "outputs": [],
   "source": [
    "# Data augmentation (train & validation)\n",
    "validation_datagen = ImageDataGenerator(\n",
    "    featurewise_center=False,  # set input mean to 0 over the dataset\n",
    "    samplewise_center=False,  # set each sample mean to 0\n",
    "    featurewise_std_normalization=False,  # divide inputs by std of the dataset\n",
    "    samplewise_std_normalization=False,  # divide each input by its std\n",
    "    zca_whitening=False,  # apply ZCA whitening\n",
    "    rotation_range=10,  # randomly rotate images in the range (degrees, 0 to 180)\n",
    "    zoom_range=0.1,  # Randomly zoom image\n",
    "    width_shift_range=0.1,  # randomly shift images horizontally (fraction of total width)\n",
    "    height_shift_range=0.1,  # randomly shift images vertically (fraction of total height)\n",
    "    horizontal_flip=False,  # randomly flip images\n",
    "    vertical_flip=False)  # randomly flip images\n",
    "validation_datagen.fit(X_test)\n",
    "\n",
    "train_datagen = ImageDataGenerator(\n",
    "    featurewise_center=False,  # set input mean to 0 over the dataset\n",
    "    samplewise_center=False,  # set each sample mean to 0\n",
    "    featurewise_std_normalization=False,  # divide inputs by std of the dataset\n",
    "    samplewise_std_normalization=False,  # divide each input by its std\n",
    "    zca_whitening=False,  # apply ZCA whitening\n",
    "    rotation_range=10,  # randomly rotate images in the range (degrees, 0 to 180)\n",
    "    zoom_range=0.1,  # Randomly zoom image\n",
    "    width_shift_range=0.1,  # randomly shift images horizontally (fraction of total width)\n",
    "    height_shift_range=0.1,  # randomly shift images vertically (fraction of total height)\n",
    "    horizontal_flip=False,  # randomly flip images\n",
    "    vertical_flip=False)  # randomly flip images\n",
    "train_datagen.fit(X_train)"
   ]
  },
  {
   "cell_type": "code",
   "execution_count": 40,
   "metadata": {},
   "outputs": [
    {
     "name": "stdout",
     "output_type": "stream",
     "text": [
      "Epoch 1/100\n",
      "15/15 [==============================] - 1s 46ms/step - loss: 1.7787 - accuracy: 0.2988 - val_loss: 1.4566 - val_accuracy: 0.4609\n",
      "Epoch 2/100\n",
      "15/15 [==============================] - 1s 34ms/step - loss: 1.2845 - accuracy: 0.5133 - val_loss: 1.1549 - val_accuracy: 0.5898\n",
      "Epoch 3/100\n",
      "15/15 [==============================] - 1s 35ms/step - loss: 1.1660 - accuracy: 0.5695 - val_loss: 1.0977 - val_accuracy: 0.6289\n",
      "Epoch 4/100\n",
      "15/15 [==============================] - 1s 35ms/step - loss: 1.1033 - accuracy: 0.6091 - val_loss: 1.1073 - val_accuracy: 0.5703\n",
      "Epoch 5/100\n",
      "15/15 [==============================] - 1s 34ms/step - loss: 1.0255 - accuracy: 0.6023 - val_loss: 1.0758 - val_accuracy: 0.6250\n",
      "Epoch 6/100\n",
      "15/15 [==============================] - 1s 35ms/step - loss: 1.0101 - accuracy: 0.6484 - val_loss: 1.0222 - val_accuracy: 0.6484\n",
      "Epoch 7/100\n",
      "15/15 [==============================] - 1s 37ms/step - loss: 0.9623 - accuracy: 0.6544 - val_loss: 0.9765 - val_accuracy: 0.6680\n",
      "Epoch 8/100\n",
      "15/15 [==============================] - 1s 35ms/step - loss: 0.8510 - accuracy: 0.6992 - val_loss: 0.8740 - val_accuracy: 0.6992\n",
      "Epoch 9/100\n",
      "15/15 [==============================] - 1s 35ms/step - loss: 0.8055 - accuracy: 0.7257 - val_loss: 0.8666 - val_accuracy: 0.6953\n",
      "Epoch 10/100\n",
      "15/15 [==============================] - 1s 34ms/step - loss: 0.7471 - accuracy: 0.7369 - val_loss: 0.7976 - val_accuracy: 0.7305\n",
      "Epoch 11/100\n",
      "15/15 [==============================] - 1s 34ms/step - loss: 0.7075 - accuracy: 0.7482 - val_loss: 0.6882 - val_accuracy: 0.7578\n",
      "Epoch 12/100\n",
      "15/15 [==============================] - 1s 37ms/step - loss: 0.6978 - accuracy: 0.7559 - val_loss: 0.7491 - val_accuracy: 0.7305\n",
      "Epoch 13/100\n",
      "15/15 [==============================] - 1s 45ms/step - loss: 0.6032 - accuracy: 0.7752 - val_loss: 0.5697 - val_accuracy: 0.8086\n",
      "Epoch 14/100\n",
      "15/15 [==============================] - 1s 40ms/step - loss: 0.5984 - accuracy: 0.7929 - val_loss: 0.6053 - val_accuracy: 0.8086\n",
      "Epoch 15/100\n",
      "15/15 [==============================] - 1s 40ms/step - loss: 0.5312 - accuracy: 0.8207 - val_loss: 0.5524 - val_accuracy: 0.8242\n",
      "Epoch 16/100\n",
      "15/15 [==============================] - 1s 40ms/step - loss: 0.5564 - accuracy: 0.7919 - val_loss: 0.5373 - val_accuracy: 0.8359\n",
      "Epoch 17/100\n",
      "15/15 [==============================] - 1s 37ms/step - loss: 0.4937 - accuracy: 0.8342 - val_loss: 0.5032 - val_accuracy: 0.8164\n",
      "Epoch 18/100\n",
      "15/15 [==============================] - 1s 37ms/step - loss: 0.4393 - accuracy: 0.8371 - val_loss: 0.4921 - val_accuracy: 0.8242\n",
      "Epoch 19/100\n",
      "15/15 [==============================] - 1s 39ms/step - loss: 0.4277 - accuracy: 0.8554 - val_loss: 0.5014 - val_accuracy: 0.8477\n",
      "Epoch 20/100\n",
      "15/15 [==============================] - 1s 38ms/step - loss: 0.3959 - accuracy: 0.8689 - val_loss: 0.4329 - val_accuracy: 0.8398\n",
      "Epoch 21/100\n",
      "15/15 [==============================] - 1s 43ms/step - loss: 0.4011 - accuracy: 0.8604 - val_loss: 0.4297 - val_accuracy: 0.8555\n",
      "Epoch 22/100\n",
      "15/15 [==============================] - 1s 38ms/step - loss: 0.3716 - accuracy: 0.8757 - val_loss: 0.4266 - val_accuracy: 0.8594\n",
      "Epoch 23/100\n",
      "15/15 [==============================] - 1s 38ms/step - loss: 0.3607 - accuracy: 0.8756 - val_loss: 0.3509 - val_accuracy: 0.8906\n",
      "Epoch 24/100\n",
      "15/15 [==============================] - 1s 37ms/step - loss: 0.3458 - accuracy: 0.8721 - val_loss: 0.3543 - val_accuracy: 0.8828\n",
      "Epoch 25/100\n",
      "15/15 [==============================] - 1s 38ms/step - loss: 0.3410 - accuracy: 0.8782 - val_loss: 0.4210 - val_accuracy: 0.8516\n",
      "Epoch 26/100\n",
      "15/15 [==============================] - 1s 39ms/step - loss: 0.3210 - accuracy: 0.8923 - val_loss: 0.3849 - val_accuracy: 0.8555\n",
      "Epoch 27/100\n",
      "15/15 [==============================] - 1s 38ms/step - loss: 0.3001 - accuracy: 0.8973 - val_loss: 0.3382 - val_accuracy: 0.8984\n",
      "Epoch 28/100\n",
      "15/15 [==============================] - 1s 37ms/step - loss: 0.2831 - accuracy: 0.9191 - val_loss: 0.2885 - val_accuracy: 0.9102\n",
      "Epoch 29/100\n",
      "15/15 [==============================] - 1s 35ms/step - loss: 0.2653 - accuracy: 0.9188 - val_loss: 0.3042 - val_accuracy: 0.8984\n",
      "Epoch 30/100\n",
      "15/15 [==============================] - 1s 37ms/step - loss: 0.2665 - accuracy: 0.9171 - val_loss: 0.2849 - val_accuracy: 0.9141\n",
      "Epoch 31/100\n",
      "15/15 [==============================] - 1s 35ms/step - loss: 0.2598 - accuracy: 0.9217 - val_loss: 0.2983 - val_accuracy: 0.8867\n",
      "Epoch 32/100\n",
      "15/15 [==============================] - 1s 35ms/step - loss: 0.2396 - accuracy: 0.9282 - val_loss: 0.2778 - val_accuracy: 0.9141\n",
      "Epoch 33/100\n",
      "15/15 [==============================] - 1s 37ms/step - loss: 0.2270 - accuracy: 0.9197 - val_loss: 0.2808 - val_accuracy: 0.8984\n",
      "Epoch 34/100\n",
      "15/15 [==============================] - 1s 42ms/step - loss: 0.2246 - accuracy: 0.9183 - val_loss: 0.2694 - val_accuracy: 0.8984\n",
      "Epoch 35/100\n",
      "15/15 [==============================] - 1s 35ms/step - loss: 0.2036 - accuracy: 0.9423 - val_loss: 0.2531 - val_accuracy: 0.9297\n",
      "Epoch 36/100\n",
      "15/15 [==============================] - 1s 38ms/step - loss: 0.2496 - accuracy: 0.9169 - val_loss: 0.2996 - val_accuracy: 0.8945\n",
      "Epoch 37/100\n",
      "15/15 [==============================] - 1s 36ms/step - loss: 0.2031 - accuracy: 0.9389 - val_loss: 0.2284 - val_accuracy: 0.9336\n",
      "Epoch 38/100\n",
      "15/15 [==============================] - 1s 35ms/step - loss: 0.1843 - accuracy: 0.9446 - val_loss: 0.2515 - val_accuracy: 0.9258\n",
      "Epoch 39/100\n",
      "15/15 [==============================] - 1s 35ms/step - loss: 0.1778 - accuracy: 0.9469 - val_loss: 0.2280 - val_accuracy: 0.9180\n",
      "Epoch 40/100\n",
      "15/15 [==============================] - 1s 35ms/step - loss: 0.1800 - accuracy: 0.9442 - val_loss: 0.2203 - val_accuracy: 0.9219\n",
      "Epoch 41/100\n",
      "15/15 [==============================] - 1s 37ms/step - loss: 0.1780 - accuracy: 0.9410 - val_loss: 0.2488 - val_accuracy: 0.9062\n",
      "Epoch 42/100\n",
      "15/15 [==============================] - 1s 38ms/step - loss: 0.1748 - accuracy: 0.9407 - val_loss: 0.2327 - val_accuracy: 0.9219\n",
      "Epoch 43/100\n",
      "15/15 [==============================] - 1s 38ms/step - loss: 0.1750 - accuracy: 0.9331 - val_loss: 0.2198 - val_accuracy: 0.9141\n",
      "Epoch 44/100\n",
      "15/15 [==============================] - 1s 37ms/step - loss: 0.1735 - accuracy: 0.9418 - val_loss: 0.1776 - val_accuracy: 0.9336\n",
      "Epoch 45/100\n",
      "15/15 [==============================] - 1s 36ms/step - loss: 0.1566 - accuracy: 0.9462 - val_loss: 0.2283 - val_accuracy: 0.9141\n",
      "Epoch 46/100\n",
      "15/15 [==============================] - 1s 39ms/step - loss: 0.1459 - accuracy: 0.9507 - val_loss: 0.2115 - val_accuracy: 0.9219\n",
      "Epoch 47/100\n",
      "15/15 [==============================] - 1s 38ms/step - loss: 0.1703 - accuracy: 0.9441 - val_loss: 0.1983 - val_accuracy: 0.9258\n",
      "Epoch 48/100\n",
      "15/15 [==============================] - 1s 38ms/step - loss: 0.1375 - accuracy: 0.9573 - val_loss: 0.1815 - val_accuracy: 0.9180\n",
      "Epoch 49/100\n",
      "15/15 [==============================] - 1s 35ms/step - loss: 0.1302 - accuracy: 0.9622 - val_loss: 0.2170 - val_accuracy: 0.9258\n",
      "Epoch 50/100\n",
      "15/15 [==============================] - 1s 36ms/step - loss: 0.1474 - accuracy: 0.9580 - val_loss: 0.2014 - val_accuracy: 0.9297\n",
      "Epoch 51/100\n",
      "15/15 [==============================] - 1s 39ms/step - loss: 0.1372 - accuracy: 0.9541 - val_loss: 0.2003 - val_accuracy: 0.9336\n",
      "Epoch 52/100\n",
      "15/15 [==============================] - 1s 38ms/step - loss: 0.1621 - accuracy: 0.9393 - val_loss: 0.1759 - val_accuracy: 0.9453\n",
      "Epoch 53/100\n",
      "15/15 [==============================] - 1s 36ms/step - loss: 0.1386 - accuracy: 0.9568 - val_loss: 0.1754 - val_accuracy: 0.9297\n",
      "Epoch 54/100\n",
      "15/15 [==============================] - 1s 36ms/step - loss: 0.1380 - accuracy: 0.9607 - val_loss: 0.1665 - val_accuracy: 0.9375\n",
      "Epoch 55/100\n",
      "15/15 [==============================] - 1s 36ms/step - loss: 0.1220 - accuracy: 0.9628 - val_loss: 0.1504 - val_accuracy: 0.9570\n",
      "Epoch 56/100\n",
      "15/15 [==============================] - 1s 35ms/step - loss: 0.1262 - accuracy: 0.9598 - val_loss: 0.1408 - val_accuracy: 0.9531\n",
      "Epoch 57/100\n",
      "15/15 [==============================] - 1s 37ms/step - loss: 0.1140 - accuracy: 0.9672 - val_loss: 0.1850 - val_accuracy: 0.9297\n",
      "Epoch 58/100\n"
     ]
    },
    {
     "name": "stdout",
     "output_type": "stream",
     "text": [
      "15/15 [==============================] - 1s 38ms/step - loss: 0.1168 - accuracy: 0.9645 - val_loss: 0.1644 - val_accuracy: 0.9453\n",
      "Epoch 59/100\n",
      "15/15 [==============================] - 1s 35ms/step - loss: 0.1012 - accuracy: 0.9732 - val_loss: 0.1717 - val_accuracy: 0.9414\n",
      "Epoch 60/100\n",
      "15/15 [==============================] - 1s 35ms/step - loss: 0.1198 - accuracy: 0.9567 - val_loss: 0.1833 - val_accuracy: 0.9297\n",
      "Epoch 61/100\n",
      "15/15 [==============================] - 1s 36ms/step - loss: 0.1041 - accuracy: 0.9695 - val_loss: 0.1602 - val_accuracy: 0.9453\n",
      "Epoch 62/100\n",
      "15/15 [==============================] - 1s 37ms/step - loss: 0.1199 - accuracy: 0.9627 - val_loss: 0.1578 - val_accuracy: 0.9531\n",
      "Epoch 63/100\n",
      "15/15 [==============================] - 1s 37ms/step - loss: 0.0989 - accuracy: 0.9632 - val_loss: 0.1701 - val_accuracy: 0.9336\n",
      "Epoch 64/100\n",
      "15/15 [==============================] - 1s 36ms/step - loss: 0.1011 - accuracy: 0.9711 - val_loss: 0.1704 - val_accuracy: 0.9375\n",
      "Epoch 65/100\n",
      "15/15 [==============================] - 1s 36ms/step - loss: 0.1130 - accuracy: 0.9588 - val_loss: 0.1469 - val_accuracy: 0.9570\n",
      "Epoch 66/100\n",
      "15/15 [==============================] - 1s 43ms/step - loss: 0.0932 - accuracy: 0.9690 - val_loss: 0.1824 - val_accuracy: 0.9336\n",
      "Epoch 67/100\n",
      "15/15 [==============================] - 1s 41ms/step - loss: 0.0965 - accuracy: 0.9689 - val_loss: 0.2022 - val_accuracy: 0.9180\n",
      "Epoch 68/100\n",
      "15/15 [==============================] - 1s 51ms/step - loss: 0.0815 - accuracy: 0.9723 - val_loss: 0.1578 - val_accuracy: 0.9531\n",
      "Epoch 69/100\n",
      "15/15 [==============================] - 1s 37ms/step - loss: 0.0848 - accuracy: 0.9771 - val_loss: 0.1662 - val_accuracy: 0.9492\n",
      "Epoch 70/100\n",
      "15/15 [==============================] - 1s 39ms/step - loss: 0.1069 - accuracy: 0.9631 - val_loss: 0.1615 - val_accuracy: 0.9492\n",
      "Epoch 71/100\n",
      "15/15 [==============================] - 1s 42ms/step - loss: 0.0836 - accuracy: 0.9749 - val_loss: 0.1517 - val_accuracy: 0.9453\n",
      "Epoch 72/100\n",
      "15/15 [==============================] - 1s 39ms/step - loss: 0.0867 - accuracy: 0.9810 - val_loss: 0.1230 - val_accuracy: 0.9453\n",
      "Epoch 73/100\n",
      "15/15 [==============================] - 1s 40ms/step - loss: 0.0861 - accuracy: 0.9735 - val_loss: 0.1946 - val_accuracy: 0.9453\n",
      "Epoch 74/100\n",
      "15/15 [==============================] - 1s 43ms/step - loss: 0.0806 - accuracy: 0.9790 - val_loss: 0.1264 - val_accuracy: 0.9609\n",
      "Epoch 75/100\n",
      "15/15 [==============================] - 1s 37ms/step - loss: 0.0864 - accuracy: 0.9723 - val_loss: 0.1368 - val_accuracy: 0.9492\n",
      "Epoch 76/100\n",
      "15/15 [==============================] - 1s 37ms/step - loss: 0.0844 - accuracy: 0.9774 - val_loss: 0.1296 - val_accuracy: 0.9492\n",
      "Epoch 77/100\n",
      "15/15 [==============================] - 1s 42ms/step - loss: 0.0641 - accuracy: 0.9843 - val_loss: 0.1388 - val_accuracy: 0.9375\n",
      "Epoch 78/100\n",
      "15/15 [==============================] - 1s 43ms/step - loss: 0.0854 - accuracy: 0.9735 - val_loss: 0.1284 - val_accuracy: 0.9492\n",
      "Epoch 79/100\n",
      "15/15 [==============================] - 1s 40ms/step - loss: 0.0724 - accuracy: 0.9783 - val_loss: 0.1514 - val_accuracy: 0.9492\n",
      "Epoch 80/100\n",
      "15/15 [==============================] - 1s 41ms/step - loss: 0.0733 - accuracy: 0.9743 - val_loss: 0.1242 - val_accuracy: 0.9531\n",
      "Epoch 81/100\n",
      "15/15 [==============================] - ETA: 0s - loss: 0.0733 - accuracy: 0.97 - 1s 42ms/step - loss: 0.0733 - accuracy: 0.9791 - val_loss: 0.1245 - val_accuracy: 0.9531\n",
      "Epoch 82/100\n",
      "15/15 [==============================] - 1s 43ms/step - loss: 0.0739 - accuracy: 0.9792 - val_loss: 0.1279 - val_accuracy: 0.9492\n",
      "Epoch 83/100\n",
      "15/15 [==============================] - 1s 36ms/step - loss: 0.0760 - accuracy: 0.9778 - val_loss: 0.1464 - val_accuracy: 0.9414\n",
      "Epoch 84/100\n",
      "15/15 [==============================] - 1s 37ms/step - loss: 0.0722 - accuracy: 0.9778 - val_loss: 0.1454 - val_accuracy: 0.9453\n",
      "Epoch 85/100\n",
      "15/15 [==============================] - 1s 36ms/step - loss: 0.0881 - accuracy: 0.9725 - val_loss: 0.1439 - val_accuracy: 0.9453\n",
      "Epoch 86/100\n",
      "15/15 [==============================] - 1s 37ms/step - loss: 0.0677 - accuracy: 0.9837 - val_loss: 0.1323 - val_accuracy: 0.9492\n",
      "Epoch 87/100\n",
      "15/15 [==============================] - 1s 37ms/step - loss: 0.0731 - accuracy: 0.9760 - val_loss: 0.1523 - val_accuracy: 0.9492\n",
      "Epoch 88/100\n",
      "15/15 [==============================] - 1s 37ms/step - loss: 0.0673 - accuracy: 0.9731 - val_loss: 0.1331 - val_accuracy: 0.9492\n",
      "Epoch 89/100\n",
      "15/15 [==============================] - 1s 36ms/step - loss: 0.0628 - accuracy: 0.9814 - val_loss: 0.1811 - val_accuracy: 0.9336\n",
      "Epoch 90/100\n",
      "15/15 [==============================] - 1s 37ms/step - loss: 0.0668 - accuracy: 0.9779 - val_loss: 0.1709 - val_accuracy: 0.9336\n",
      "Epoch 91/100\n",
      "15/15 [==============================] - 1s 35ms/step - loss: 0.0715 - accuracy: 0.9776 - val_loss: 0.1281 - val_accuracy: 0.9453\n",
      "Epoch 92/100\n",
      "15/15 [==============================] - 1s 36ms/step - loss: 0.0659 - accuracy: 0.9760 - val_loss: 0.1554 - val_accuracy: 0.9531\n",
      "Epoch 93/100\n",
      "15/15 [==============================] - 1s 36ms/step - loss: 0.0895 - accuracy: 0.9661 - val_loss: 0.1700 - val_accuracy: 0.9492\n",
      "Epoch 94/100\n",
      "15/15 [==============================] - 1s 35ms/step - loss: 0.0736 - accuracy: 0.9738 - val_loss: 0.1468 - val_accuracy: 0.9492\n",
      "Epoch 95/100\n",
      "15/15 [==============================] - 1s 36ms/step - loss: 0.0859 - accuracy: 0.9679 - val_loss: 0.1208 - val_accuracy: 0.9531\n",
      "Epoch 96/100\n",
      "15/15 [==============================] - 1s 35ms/step - loss: 0.0593 - accuracy: 0.9790 - val_loss: 0.1656 - val_accuracy: 0.9336\n",
      "Epoch 97/100\n",
      "15/15 [==============================] - 1s 36ms/step - loss: 0.0617 - accuracy: 0.9831 - val_loss: 0.1766 - val_accuracy: 0.9180\n",
      "Epoch 98/100\n",
      "15/15 [==============================] - 1s 35ms/step - loss: 0.0592 - accuracy: 0.9776 - val_loss: 0.0980 - val_accuracy: 0.9492\n",
      "Epoch 99/100\n",
      "15/15 [==============================] - 1s 36ms/step - loss: 0.0611 - accuracy: 0.9830 - val_loss: 0.0962 - val_accuracy: 0.9648\n",
      "Epoch 100/100\n",
      "15/15 [==============================] - 1s 35ms/step - loss: 0.0600 - accuracy: 0.9800 - val_loss: 0.1056 - val_accuracy: 0.9492\n"
     ]
    }
   ],
   "source": [
    "hist = model.fit(train_datagen.flow(X_train, y_train, batch_size=100), epochs=100,\n",
    "                 validation_data=validation_datagen.flow(X_test, y_test, batch_size=100),\n",
    "                 shuffle=True)"
   ]
  },
  {
   "cell_type": "code",
   "execution_count": 41,
   "metadata": {},
   "outputs": [
    {
     "data": {
      "image/png": "[encoded data removed]",
      "text/plain": [
       "<Figure size 432x288 with 1 Axes>"
      ]
     },
     "metadata": {
      "needs_background": "light"
     },
     "output_type": "display_data"
    }
   ],
   "source": [
    "plt.plot(hist.history['accuracy'])\n",
    "plt.plot(hist.history['val_accuracy'])\n",
    "plt.title('model accuracy')\n",
    "plt.ylabel('accuracy')\n",
    "plt.xlabel('epoch')\n",
    "plt.legend(['train', 'val'], loc='upper left')\n",
    "plt.show()"
   ]
  },
  {
   "cell_type": "markdown",
   "metadata": {},
   "source": [
    "## Kaggle Data predictions"
   ]
  },
  {
   "cell_type": "code",
   "execution_count": 42,
   "metadata": {},
   "outputs": [
    {
     "name": "stdout",
     "output_type": "stream",
     "text": [
      "   Id  label\n",
      "0   1     22\n",
      "1   2     16\n",
      "2   3     16\n",
      "3   4     16\n",
      "4   5     16\n"
     ]
    }
   ],
   "source": [
    "# Predictions on Kaggle data\n",
    "Y_comp = np.argmax(model.predict(X_comp), axis=-1)\n",
    "\n",
    "# Revert back the labels\n",
    "Y_comp[Y_comp == 6] = 22\n",
    "Y_comp[Y_comp == 5] = 18\n",
    "Y_comp[Y_comp == 4] = 16\n",
    "Y_comp[Y_comp == 3] = 12\n",
    "Y_comp[Y_comp == 2] = 6\n",
    "Y_comp[Y_comp == 1] = 2\n",
    "Y_comp[Y_comp == 0] = 1\n",
    "\n",
    "df_out = pd.read_csv('data/sample.csv')\n",
    "df_out['label'] = Y_comp\n",
    "print(df_out.head())\n",
    "df_out.to_csv('data/out.csv', index=False)"
   ]
  }
 ],
 "metadata": {
  "kernelspec": {
   "display_name": "Python 3",
   "language": "python",
   "name": "python3"
  },
  "language_info": {
   "codemirror_mode": {
    "name": "ipython",
    "version": 3
   },
   "file_extension": ".py",
   "mimetype": "text/x-python",
   "name": "python",
   "nbconvert_exporter": "python",
   "pygments_lexer": "ipython3",
   "version": "3.8.5"
  }
 },
 "nbformat": 4,
 "nbformat_minor": 4
}
